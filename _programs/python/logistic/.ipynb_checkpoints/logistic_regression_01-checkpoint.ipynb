{
 "cells": [
  {
   "cell_type": "markdown",
   "metadata": {},
   "source": [
    "# ロジスティック回帰 -その1-"
   ]
  },
  {
   "cell_type": "code",
   "execution_count": 1,
   "metadata": {},
   "outputs": [],
   "source": [
    "import os\n",
    "import struct\n",
    "import numpy as np\n",
    "import matplotlib.pyplot as plt\n",
    "from sklearn.linear_model import LogisticRegression"
   ]
  },
  {
   "cell_type": "code",
   "execution_count": 2,
   "metadata": {},
   "outputs": [],
   "source": [
    "# MNISTのファイル (あらかじめダウンロードしておく)\n",
    "train_image_file = 'mnist/train-images-idx3-ubyte'\n",
    "train_label_file = 'mnist/train-labels-idx1-ubyte'\n",
    "test_image_file = 'mnist/t10k-images-idx3-ubyte'\n",
    "test_label_file = 'mnist/t10k-labels-idx1-ubyte'"
   ]
  },
  {
   "cell_type": "markdown",
   "metadata": {},
   "source": [
    "## データの読み込み"
   ]
  },
  {
   "cell_type": "code",
   "execution_count": 3,
   "metadata": {},
   "outputs": [],
   "source": [
    "def load_images(filename):\n",
    "    \"\"\" MNISTの画像データを読み込む \"\"\"\n",
    "\n",
    "    fp = open(filename, 'rb')\n",
    "    \n",
    "    # マジックナンバー\n",
    "    magic = struct.unpack('>i', fp.read(4))[0]\n",
    "    if magic != 2051:\n",
    "        raise RuntimeError('Invalid MNIST file!')\n",
    "        \n",
    "    # 各種サイズ\n",
    "    n_images, height, width = struct.unpack('>iii', fp.read(4 * 3))\n",
    "    \n",
    "    # 画像の読み込み\n",
    "    total_pixels = n_images * height * width\n",
    "    images = struct.unpack('>' + 'B' * total_pixels, fp.read(total_pixels))\n",
    "    \n",
    "    images = np.asarray(images, dtype='uint8')\n",
    "    images = images.reshape((n_images, height, width, 1))\n",
    "    \n",
    "    # 値の範囲を[0, 1]に変更する\n",
    "    images = images.astype('float32') / 255.0\n",
    "    \n",
    "    fp.close()\n",
    "    \n",
    "    return images"
   ]
  },
  {
   "cell_type": "code",
   "execution_count": 4,
   "metadata": {},
   "outputs": [],
   "source": [
    "def load_labels(filename):\n",
    "    \"\"\" MNISTのラベルデータを読み込む \"\"\"\n",
    "\n",
    "    fp = open(filename, 'rb')\n",
    "    \n",
    "    # マジックナンバー\n",
    "    magic = struct.unpack('>i', fp.read(4))[0]\n",
    "    if magic != 2049:\n",
    "        raise RuntimeError('Invalid MNIST file!')\n",
    "        \n",
    "    # 各種サイズ\n",
    "    n_labels = struct.unpack('>i', fp.read(4))[0]\n",
    "    \n",
    "    # ラベルの読み込み\n",
    "    labels = struct.unpack('>' + 'B' * n_labels, fp.read(n_labels))\n",
    "    labels = np.asarray(labels, dtype='int32')\n",
    "    \n",
    "    fp.close()\n",
    "    \n",
    "    return labels"
   ]
  },
  {
   "cell_type": "code",
   "execution_count": 5,
   "metadata": {},
   "outputs": [],
   "source": [
    "def to_onehot(labels):\n",
    "    \"\"\" one-hot形式への変換 \"\"\"\n",
    "    return np.identity(10)[labels]"
   ]
  },
  {
   "cell_type": "code",
   "execution_count": 6,
   "metadata": {},
   "outputs": [],
   "source": [
    "images = load_images(train_image_file)\n",
    "labels = load_labels(train_label_file)\n",
    "onehot = to_onehot(labels)"
   ]
  },
  {
   "cell_type": "markdown",
   "metadata": {},
   "source": [
    "## scikit-learnによるロジスティック回帰"
   ]
  },
  {
   "cell_type": "code",
   "execution_count": 7,
   "metadata": {},
   "outputs": [
    {
     "name": "stderr",
     "output_type": "stream",
     "text": [
      "/Users/tatsuya/miniconda3/envs/beginners/lib/python3.9/site-packages/sklearn/linear_model/_logistic.py:763: ConvergenceWarning: lbfgs failed to converge (status=1):\n",
      "STOP: TOTAL NO. of ITERATIONS REACHED LIMIT.\n",
      "\n",
      "Increase the number of iterations (max_iter) or scale the data as shown in:\n",
      "    https://scikit-learn.org/stable/modules/preprocessing.html\n",
      "Please also refer to the documentation for alternative solver options:\n",
      "    https://scikit-learn.org/stable/modules/linear_model.html#logistic-regression\n",
      "  n_iter_i = _check_optimize_result(\n"
     ]
    },
    {
     "data": {
      "text/plain": [
       "LogisticRegression(max_iter=20, multi_class='multinomial', random_state=0)"
      ]
     },
     "execution_count": 7,
     "metadata": {},
     "output_type": "execute_result"
    }
   ],
   "source": [
    "n = len(images)\n",
    "X = images.reshape((n, -1))\n",
    "y = labels.reshape((n))\n",
    "clf = LogisticRegression(random_state=0, multi_class='multinomial', max_iter=20)\n",
    "clf.fit(X, y)"
   ]
  },
  {
   "cell_type": "markdown",
   "metadata": {},
   "source": [
    "## テストデータを用いた精度計算"
   ]
  },
  {
   "cell_type": "code",
   "execution_count": 8,
   "metadata": {},
   "outputs": [
    {
     "name": "stdout",
     "output_type": "stream",
     "text": [
      "Accuracy: 0.9130\n"
     ]
    }
   ],
   "source": [
    "test_images = load_images(test_image_file)\n",
    "test_labels = load_labels(test_label_file)\n",
    "pred_labels = clf.predict(test_images.reshape(10000, -1))\n",
    "acc = (pred_labels == test_labels).mean()\n",
    "print('Accuracy: {:.4f}'.format(acc))"
   ]
  }
 ],
 "metadata": {
  "kernelspec": {
   "display_name": "Python 3",
   "language": "python",
   "name": "python3"
  },
  "language_info": {
   "codemirror_mode": {
    "name": "ipython",
    "version": 3
   },
   "file_extension": ".py",
   "mimetype": "text/x-python",
   "name": "python",
   "nbconvert_exporter": "python",
   "pygments_lexer": "ipython3",
   "version": "3.9.1"
  }
 },
 "nbformat": 4,
 "nbformat_minor": 4
}
