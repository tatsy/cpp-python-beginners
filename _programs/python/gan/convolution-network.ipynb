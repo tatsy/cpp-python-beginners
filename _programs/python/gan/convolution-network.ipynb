{
 "cells": [
  {
   "cell_type": "markdown",
   "metadata": {},
   "source": [
    "# CNNによる手書き文字認識"
   ]
  },
  {
   "cell_type": "code",
   "execution_count": 3,
   "metadata": {},
   "outputs": [],
   "source": [
    "import os\n",
    "import sys\n",
    "import struct\n",
    "from tqdm import tqdm\n",
    "import numpy as np\n",
    "import matplotlib.pyplot as plt\n",
    "\n",
    "import torch\n",
    "import torch.nn as nn\n",
    "import torch.nn.functional as F"
   ]
  },
  {
   "cell_type": "code",
   "execution_count": 4,
   "metadata": {},
   "outputs": [],
   "source": [
    "# MNISTのファイル (あらかじめダウンロードしておく)\n",
    "train_image_file = 'mnist/train-images-idx3-ubyte'\n",
    "train_label_file = 'mnist/train-labels-idx1-ubyte'\n",
    "test_image_file = 'mnist/t10k-images-idx3-ubyte'\n",
    "test_label_file = 'mnist/t10k-labels-idx1-ubyte'"
   ]
  },
  {
   "cell_type": "markdown",
   "metadata": {},
   "source": [
    "## データの読み込み"
   ]
  },
  {
   "cell_type": "code",
   "execution_count": 5,
   "metadata": {},
   "outputs": [],
   "source": [
    "class MnistDataset(torch.utils.data.Dataset):\n",
    "    def __init__(self, root_dir, mode='train'):\n",
    "        super(MnistDataset, self).__init__()\n",
    "\n",
    "        self.root_dir = root_dir\n",
    "        self.mode = mode\n",
    "\n",
    "        if self.mode == 'train':\n",
    "            self.image_file = 'train-images-idx3-ubyte'\n",
    "            self.label_file = 'train-labels-idx1-ubyte'\n",
    "        elif self.mode == 'test':\n",
    "            self.image_file = 't10k-images-idx3-ubyte'\n",
    "            self.label_file = 't10k-labels-idx1-ubyte'\n",
    "        else:\n",
    "            raise Exception('MNIST dataset mode must be \"train\" or \"test\"')\n",
    "        \n",
    "        self.image_data = self._load_images(os.path.join(self.root_dir, self.image_file))\n",
    "        self.label_data = self._load_labels(os.path.join(self.root_dir, self.label_file))\n",
    "\n",
    "    def __len__(self):\n",
    "        return len(self.image_data)\n",
    "\n",
    "    def __getitem__(self, idx):\n",
    "        return {\n",
    "            'images': self.image_data[idx],\n",
    "            'labels': self.label_data[idx]\n",
    "        }\n",
    "\n",
    "    def _load_images(self, filename):\n",
    "        with open(filename, 'rb') as fp:\n",
    "            magic = struct.unpack('>i', fp.read(4))[0]\n",
    "            if magic != 2051:\n",
    "                raise Exception('Magic number does not match!')\n",
    "\n",
    "            n_images, height, width = struct.unpack('>iii', fp.read(4 * 3))\n",
    "\n",
    "            n_pixels = n_images * height * width\n",
    "            pixels = struct.unpack('>' + 'B' * n_pixels, fp.read(n_pixels))\n",
    "            pixels = np.asarray(pixels, dtype='uint8').reshape((n_images, 1, height, width))\n",
    "\n",
    "            # 画像サイズを2べきにしておく\n",
    "            pixels = np.pad(pixels, [(0, 0), (0, 0), (2, 2), (2, 2)], mode='constant', constant_values=0)\n",
    "            pixels = (pixels / 255.0).astype('float32')\n",
    "\n",
    "        return pixels\n",
    "\n",
    "    def _load_labels(self, filename):\n",
    "        with open(filename, 'rb') as fp:\n",
    "            magic = struct.unpack('>i', fp.read(4))[0]\n",
    "            if magic != 2049:\n",
    "                raise Exception('Magic number does not match!')\n",
    "\n",
    "            n_labels = struct.unpack('>i', fp.read(4))[0]\n",
    "            labels = struct.unpack('>' + 'B' * n_labels, fp.read(n_labels))\n",
    "            labels = np.asarray(labels, dtype='int64')\n",
    "\n",
    "        return labels"
   ]
  },
  {
   "cell_type": "code",
   "execution_count": 6,
   "metadata": {},
   "outputs": [],
   "source": [
    "def to_onehot(labels):\n",
    "    \"\"\" one-hot形式への変換 \"\"\"\n",
    "    return np.identity(10, dtype='float32')[labels]"
   ]
  },
  {
   "cell_type": "markdown",
   "metadata": {},
   "source": [
    "## CNNによる画像認識"
   ]
  },
  {
   "cell_type": "code",
   "execution_count": 24,
   "metadata": {},
   "outputs": [],
   "source": [
    "class LeNet5(nn.Module):\n",
    "    def __init__(self):\n",
    "        super(LeNet5, self).__init__()\n",
    "\n",
    "        net0 = nn.Sequential(\n",
    "            nn.Conv2d(1, 6, kernel_size=5, stride=1, padding=0),\n",
    "            nn.MaxPool2d(kernel_size=2, stride=2),\n",
    "            nn.Sigmoid(),\n",
    "            nn.Conv2d(6, 16, kernel_size=5, stride=1, padding=0),\n",
    "            nn.MaxPool2d(kernel_size=2, stride=2),\n",
    "            nn.Sigmoid()\n",
    "        )\n",
    "\n",
    "        net1 = nn.Sequential(\n",
    "            nn.Linear(5 * 5 * 16, 120),\n",
    "            nn.Sigmoid(),\n",
    "            nn.Linear(120, 84),\n",
    "            nn.Sigmoid(),\n",
    "            nn.Linear(84, 10)\n",
    "        )\n",
    "        \n",
    "        self.nets = nn.ModuleList([net0, net1])\n",
    "\n",
    "    def forward(self, x):\n",
    "        n_batches, _, _, _ = x.size()\n",
    "        x = self.nets[0](x)\n",
    "        x = x.view(n_batches, -1)\n",
    "        y = self.nets[1](x)\n",
    "        return torch.log_softmax(y, dim=1)"
   ]
  },
  {
   "cell_type": "code",
   "execution_count": 26,
   "metadata": {},
   "outputs": [],
   "source": [
    "class Network(nn.Module):\n",
    "    def __init__(self):\n",
    "        super(Network, self).__init__()\n",
    "        \n",
    "        self.net = nn.Sequential(\n",
    "            nn.Conv2d(1, 16, kernel_size=5, padding=0, stride=1),\n",
    "            nn.MaxPool2d(kernel_size=2, stride=2, padding=0),\n",
    "            nn.BatchNorm2d(16),\n",
    "            nn.ReLU(inplace=True),\n",
    "            nn.Conv2d(16, 32, kernel_size=5, padding=0, stride=1),\n",
    "            nn.MaxPool2d(kernel_size=2, stride=2, padding=0),\n",
    "            nn.BatchNorm2d(32),\n",
    "            nn.ReLU(inplace=True)\n",
    "        )\n",
    "        \n",
    "        self.fc = nn.Sequential(\n",
    "            nn.Linear(800, 256),\n",
    "            nn.BatchNorm1d(256),\n",
    "            nn.ReLU(inplace=True),\n",
    "            nn.Linear(256, 128),\n",
    "            nn.BatchNorm1d(128),\n",
    "            nn.ReLU(inplace=True),\n",
    "            nn.Linear(128, 10)\n",
    "        )\n",
    "        \n",
    "    def forward(self, x):\n",
    "        num_batch = x.size()[0]\n",
    "        h = self.net(x)\n",
    "        h = h.view(num_batch, -1)\n",
    "        y = self.fc(h)\n",
    "        \n",
    "        return torch.log_softmax(y, dim=1)"
   ]
  },
  {
   "cell_type": "code",
   "execution_count": 35,
   "metadata": {},
   "outputs": [],
   "source": [
    "# パラメータ\n",
    "num_epochs = 1\n",
    "num_batch = 128"
   ]
  },
  {
   "cell_type": "code",
   "execution_count": 36,
   "metadata": {},
   "outputs": [],
   "source": [
    "# データセットの用意\n",
    "train_dataset = MnistDataset(root_dir='./mnist', mode='train')\n",
    "train_loader = torch.utils.data.DataLoader(train_dataset, batch_size=num_batch, shuffle=True, drop_last=True)"
   ]
  },
  {
   "cell_type": "code",
   "execution_count": 37,
   "metadata": {},
   "outputs": [
    {
     "name": "stdout",
     "output_type": "stream",
     "text": [
      "cpu\n"
     ]
    }
   ],
   "source": [
    "# デバイス\n",
    "if torch.cuda.is_available():\n",
    "    device = torch.device('cuda', 0)\n",
    "else:\n",
    "    device = torch.device('cpu')\n",
    "print(device)"
   ]
  },
  {
   "cell_type": "code",
   "execution_count": 42,
   "metadata": {},
   "outputs": [],
   "source": [
    "# ネットワークの構築\n",
    "#net = LeNet5()\n",
    "net = Network()\n",
    "net.to(device)\n",
    "optim = torch.optim.Adam(net.parameters(), lr=1.0e-3)\n",
    "criterion = nn.NLLLoss()"
   ]
  },
  {
   "cell_type": "code",
   "execution_count": 43,
   "metadata": {},
   "outputs": [
    {
     "name": "stdout",
     "output_type": "stream",
     "text": [
      "epoch: 0, step:467, loss=0.028063, acc=0.992188: 100%|██████████| 468/468 [00:29<00:00, 16.03it/s]\n"
     ]
    }
   ],
   "source": [
    "steps = 0\n",
    "for epoch in range(num_epochs):\n",
    "    status_bar = tqdm(train_loader, file=sys.stdout)\n",
    "    for data in status_bar:\n",
    "            \n",
    "        X_real = data['images'].to(device)\n",
    "        y_real = data['labels'].to(device)\n",
    "                \n",
    "        net.train()\n",
    "        \n",
    "        y_pred = net(X_real)\n",
    "        loss = criterion(y_pred, y_real)\n",
    "        acc = (y_pred.argmax(dim=1) == y_real).float().mean()\n",
    "        status_bar.set_description('epoch: {}, step:{}, loss={:.6f}, acc={:.6f}'.format(epoch, steps, loss.item(), acc.item()))\n",
    "        \n",
    "        net.zero_grad()\n",
    "        loss.backward()\n",
    "        optim.step()\n",
    "        \n",
    "        steps += 1"
   ]
  },
  {
   "cell_type": "markdown",
   "metadata": {},
   "source": [
    "## テストデータを用いた精度計算"
   ]
  },
  {
   "cell_type": "code",
   "execution_count": 44,
   "metadata": {},
   "outputs": [],
   "source": [
    "test_dataset = MnistDataset(root_dir='./mnist', mode='test')\n",
    "test_loader = torch.utils.data.DataLoader(test_dataset, batch_size=num_batch, shuffle=False, drop_last=False)"
   ]
  },
  {
   "cell_type": "code",
   "execution_count": 45,
   "metadata": {},
   "outputs": [
    {
     "name": "stdout",
     "output_type": "stream",
     "text": [
      "100%|██████████| 468/468 [00:07<00:00, 64.31it/s]\n",
      "loss=0.031780, acc=0.991019"
     ]
    }
   ],
   "source": [
    "avg_loss = 0.0\n",
    "avg_acc = 0.0\n",
    "count = 0\n",
    "\n",
    "for data in tqdm(train_loader, file=sys.stdout):\n",
    "\n",
    "    X_real = data['images'].to(device)\n",
    "    y_real = data['labels'].to(device)\n",
    "\n",
    "    net.eval()\n",
    "\n",
    "    y_pred = net(X_real)\n",
    "    loss = criterion(y_pred, y_real)\n",
    "    acc = (y_pred.argmax(dim=1) == y_real).float().mean()\n",
    "\n",
    "    avg_loss += loss.item()\n",
    "    avg_acc += acc.item()\n",
    "    count += 1\n",
    "    \n",
    "avg_loss /= count\n",
    "avg_acc /= count\n",
    "\n",
    "sys.stdout.write('loss={:.6f}, acc={:.6f}'.format(avg_loss, avg_acc))"
   ]
  },
  {
   "cell_type": "markdown",
   "metadata": {},
   "source": [
    "## モデルの保存"
   ]
  },
  {
   "cell_type": "code",
   "execution_count": null,
   "metadata": {},
   "outputs": [],
   "source": [
    "torch.save(net.state_dict(), 'model.pth')"
   ]
  }
 ],
 "metadata": {
  "kernelspec": {
   "display_name": "Python 3",
   "language": "python",
   "name": "python3"
  },
  "language_info": {
   "codemirror_mode": {
    "name": "ipython",
    "version": 3
   },
   "file_extension": ".py",
   "mimetype": "text/x-python",
   "name": "python",
   "nbconvert_exporter": "python",
   "pygments_lexer": "ipython3",
   "version": "3.7.9"
  }
 },
 "nbformat": 4,
 "nbformat_minor": 4
}
