{
 "cells": [
  {
   "cell_type": "code",
   "execution_count": 14,
   "metadata": {},
   "outputs": [],
   "source": [
    "import time\n",
    "import numpy as np"
   ]
  },
  {
   "cell_type": "code",
   "execution_count": 134,
   "metadata": {},
   "outputs": [],
   "source": [
    "# レベル1\n",
    "problem = '''\n",
    "-35-9--48\n",
    "--9--8--3\n",
    "-4-6-5--1\n",
    "----74---\n",
    "-2-----6-\n",
    "---15----\n",
    "8--9-2-7-\n",
    "9--5--2--\n",
    "61--4-53-\n",
    "'''"
   ]
  },
  {
   "cell_type": "code",
   "execution_count": 29,
   "metadata": {},
   "outputs": [],
   "source": [
    "# レベル2\n",
    "# https://si-coding.net/sudoku10.html\n",
    "problem = '''\n",
    "------1-4\n",
    "4---78---\n",
    "-3------2\n",
    "5--4-7-3-\n",
    "2------5-\n",
    "9---264--\n",
    "-27------\n",
    "--56----7\n",
    "-6--13---\n",
    "'''"
   ]
  },
  {
   "cell_type": "code",
   "execution_count": 146,
   "metadata": {},
   "outputs": [],
   "source": [
    "# レベル3\n",
    "# https://www.j-cast.com/premium/2018/10/19341452.html?p=all\n",
    "problem = '''\n",
    "---------\n",
    "3--2-9--7\n",
    "94--1--82\n",
    "-5-6-2-3-\n",
    "--63-74--\n",
    "---------\n",
    "---------\n",
    "-82-3-59-\n",
    "1--9-4--6\n",
    "'''"
   ]
  },
  {
   "cell_type": "code",
   "execution_count": 127,
   "metadata": {},
   "outputs": [],
   "source": [
    "# 世界一難しい？\n",
    "# https://www.conceptispuzzles.com/ja/index.aspx?uri=info/article/424\n",
    "problem = '''\n",
    "8--------\n",
    "--36-----\n",
    "-7--9-2--\n",
    "-5---7---\n",
    "----457--\n",
    "---1---3-\n",
    "--1----68\n",
    "--85---1-\n",
    "-9----4--\n",
    "'''"
   ]
  },
  {
   "cell_type": "code",
   "execution_count": 125,
   "metadata": {},
   "outputs": [],
   "source": [
    "# レベル?\n",
    "# https://puzzlemadness.co.uk/16by16giantsudoku/\n",
    "problem = '''\n",
    "8---F2G----C----\n",
    "---CE--8----6-4-\n",
    "-7F59----1------\n",
    "3-B-------5-2--E\n",
    "D-6A--8G---7---5\n",
    "E---D-A------6G9\n",
    "-83---------D-B-\n",
    "G-9-7342--8D---C\n",
    "932-----B---FGC-\n",
    "6----1--58---3--\n",
    "C----4-A--6E--1-\n",
    "B-5D---F--73-4--\n",
    "7C--2-----E---63\n",
    "-----56---98B7--\n",
    "---3AG9--F---D-1\n",
    "----1F3--7---A--\n",
    "'''"
   ]
  },
  {
   "cell_type": "code",
   "execution_count": 147,
   "metadata": {},
   "outputs": [
    {
     "name": "stdout",
     "output_type": "stream",
     "text": [
      "[[0 0 0 0 0 0 0 0 0]\n",
      " [3 0 0 2 0 9 0 0 7]\n",
      " [9 4 0 0 1 0 0 8 2]\n",
      " [0 5 0 6 0 2 0 3 0]\n",
      " [0 0 6 3 0 7 4 0 0]\n",
      " [0 0 0 0 0 0 0 0 0]\n",
      " [0 0 0 0 0 0 0 0 0]\n",
      " [0 8 2 0 3 0 5 9 0]\n",
      " [1 0 0 9 0 4 0 0 6]]\n"
     ]
    }
   ],
   "source": [
    "numbers = {'-': 0}\n",
    "numbers.update({ str(i):i for i in range(1, 10)})\n",
    "numbers.update({ s: 10 + ord(s) - ord('A') for s in 'ABCDEFG' })\n",
    "problem = [numbers[c] for line in problem.split('\\n') if line != '' for c in line]\n",
    "problem = np.asarray(problem, dtype='int32')\n",
    "size = int(np.sqrt(problem.size))\n",
    "problem = problem.reshape((size, size))\n",
    "print(problem)"
   ]
  },
  {
   "cell_type": "code",
   "execution_count": 148,
   "metadata": {},
   "outputs": [],
   "source": [
    "def sudoku_solve(problem):\n",
    "    rows, cols = problem.shape\n",
    "    all_nums = set([i for i in range(0, 10)])\n",
    "    for i in range(rows):\n",
    "        for j in range(cols):\n",
    "            if problem[i, j] == 0:\n",
    "                k = i // 3\n",
    "                l = j // 3\n",
    "                row_nums = problem[i, :].tolist()\n",
    "                col_nums = problem[:, j].tolist()\n",
    "                blk_nums = problem[3*k:3*k+3, 3*l:3*l+3].reshape(-1).tolist()\n",
    "                used_nums = set(row_nums + col_nums + blk_nums)\n",
    "                nums = all_nums.difference(used_nums)\n",
    "                if len(nums) == 0:\n",
    "                    return False\n",
    "                \n",
    "                success = False\n",
    "                for n in nums:\n",
    "                    problem[i, j] = n\n",
    "                    if sudoku_solve(problem):\n",
    "                        success = True\n",
    "                        break\n",
    "\n",
    "                    problem[i, j] = 0\n",
    "\n",
    "                if not success:\n",
    "                    return False\n",
    "        \n",
    "    return True"
   ]
  },
  {
   "cell_type": "code",
   "execution_count": 149,
   "metadata": {},
   "outputs": [],
   "source": [
    "def sudoku_solve2(problem, start = 0):\n",
    "    rows, cols = problem.shape\n",
    "    if rows != cols:\n",
    "        raise Exception('Given problem is not square!')\n",
    "        \n",
    "    size = rows\n",
    "    sub = int(np.sqrt(size))\n",
    "    nums = set([i for i in range(0, size + 1)])\n",
    "    for c in range(start, size * size):\n",
    "        i = c // size\n",
    "        j = c % size\n",
    "        if problem[i, j] == 0:\n",
    "            k = i // sub\n",
    "            l = j // sub\n",
    "            row_nums = problem[i, :].tolist()\n",
    "            col_nums = problem[:, j].tolist()\n",
    "            blk_nums = problem[sub*k:sub*k+sub, sub*l:sub*l+sub].reshape(-1).tolist()\n",
    "            used = set(row_nums + col_nums + blk_nums)\n",
    "            diff = nums.difference(used)\n",
    "            if len(diff) == 0:\n",
    "                return False\n",
    "\n",
    "            success = False\n",
    "            for n in diff:\n",
    "                problem[i, j] = n\n",
    "                if sudoku_solve2(problem, i * cols + j + 1):\n",
    "                    success = True\n",
    "                    break\n",
    "\n",
    "                problem[i, j] = 0\n",
    "\n",
    "            if not success:\n",
    "                return False\n",
    "        \n",
    "    return True"
   ]
  },
  {
   "cell_type": "code",
   "execution_count": 153,
   "metadata": {},
   "outputs": [
    {
     "name": "stdout",
     "output_type": "stream",
     "text": [
      "236.05478300 msec\n",
      "[[5 2 1 7 6 8 3 4 9]\n",
      " [3 6 8 2 4 9 1 5 7]\n",
      " [9 4 7 5 1 3 6 8 2]\n",
      " [4 5 9 6 8 2 7 3 1]\n",
      " [8 1 6 3 9 7 4 2 5]\n",
      " [2 7 3 4 5 1 9 6 8]\n",
      " [6 9 4 8 7 5 2 1 3]\n",
      " [7 8 2 1 3 6 5 9 4]\n",
      " [1 3 5 9 2 4 8 7 6]]\n"
     ]
    }
   ],
   "source": [
    "# 時間計測開始\n",
    "start_time = time.perf_counter()\n",
    "# 解く\n",
    "answer = problem.copy()\n",
    "success = sudoku_solve2(answer)\n",
    "# 時間計測終了\n",
    "end_time = time.perf_counter()\n",
    "elapsed_ms = 1000.0 * (end_time - start_time)\n",
    "# 結果を表示\n",
    "print('{:.8f} msec'.format(elapsed_ms))\n",
    "if success:\n",
    "    print(answer)\n",
    "else:\n",
    "    print('Cannot solve this sudoku!')"
   ]
  },
  {
   "cell_type": "code",
   "execution_count": null,
   "metadata": {},
   "outputs": [],
   "source": []
  }
 ],
 "metadata": {
  "kernelspec": {
   "display_name": "Python 3",
   "language": "python",
   "name": "python3"
  },
  "language_info": {
   "codemirror_mode": {
    "name": "ipython",
    "version": 3
   },
   "file_extension": ".py",
   "mimetype": "text/x-python",
   "name": "python",
   "nbconvert_exporter": "python",
   "pygments_lexer": "ipython3",
   "version": "3.7.3"
  }
 },
 "nbformat": 4,
 "nbformat_minor": 4
}
